{
  "nbformat": 4,
  "nbformat_minor": 0,
  "metadata": {
    "colab": {
      "provenance": [],
      "authorship_tag": "ABX9TyN66G17SKVSp3t6nPl7yxDd",
      "include_colab_link": true
    },
    "kernelspec": {
      "name": "python3",
      "display_name": "Python 3"
    },
    "language_info": {
      "name": "python"
    }
  },
  "cells": [
    {
      "cell_type": "markdown",
      "metadata": {
        "id": "view-in-github",
        "colab_type": "text"
      },
      "source": [
        "<a href=\"https://colab.research.google.com/github/LucasMonteiroBastos/Power-BI/blob/main/Estudos_em_Power_BI.ipynb\" target=\"_parent\"><img src=\"https://colab.research.google.com/assets/colab-badge.svg\" alt=\"Open In Colab\"/></a>"
      ]
    },
    {
      "cell_type": "markdown",
      "source": [
        "instalação"
      ],
      "metadata": {
        "id": "NGZN9_Lauzrc"
      }
    },
    {
      "cell_type": "markdown",
      "source": [
        "explorando a interface"
      ],
      "metadata": {
        "id": "A-GmLYZYu2Ua"
      }
    },
    {
      "cell_type": "code",
      "source": [],
      "metadata": {
        "id": "0mLNfsZdu1Fk"
      },
      "execution_count": null,
      "outputs": []
    }
  ]
}